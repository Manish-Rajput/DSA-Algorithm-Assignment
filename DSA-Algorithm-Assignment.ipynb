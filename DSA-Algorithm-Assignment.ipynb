{
 "cells": [
  {
   "cell_type": "markdown",
   "id": "4bb5b0b7",
   "metadata": {},
   "source": [
    "### Linear Search Algorithm"
   ]
  },
  {
   "cell_type": "code",
   "execution_count": 1,
   "id": "c2f2e45d",
   "metadata": {},
   "outputs": [
    {
     "name": "stdout",
     "output_type": "stream",
     "text": [
      "Element is present at index 3\n"
     ]
    }
   ],
   "source": [
    "def search(arr, n, x):\n",
    "    for i in range(0, n):\n",
    "        if (arr[i] == x):\n",
    "            return i\n",
    "    return -1\n",
    " \n",
    "\n",
    "arr = [2, 3, 4, 10, 40]\n",
    "x = 10\n",
    "n = len(arr)\n",
    " \n",
    "\n",
    "result = search(arr, n, x)\n",
    "if(result == -1):\n",
    "    print(\"Element is not present in array\")\n",
    "else:\n",
    "    print(\"Element is present at index\", result)"
   ]
  },
  {
   "cell_type": "markdown",
   "id": "8f9ae036",
   "metadata": {},
   "source": [
    "### Binary Search Algorithm"
   ]
  },
  {
   "cell_type": "code",
   "execution_count": 2,
   "id": "a8a893cb",
   "metadata": {},
   "outputs": [
    {
     "name": "stdout",
     "output_type": "stream",
     "text": [
      "Element is present at index  3\n"
     ]
    }
   ],
   "source": [
    "def binarySearch (arr, l, r, x):\n",
    "    if r >= l:\n",
    "  \n",
    "        mid = l + (r - l)\n",
    "    \n",
    "        if arr[mid] == x:\n",
    "            return mid\n",
    "          \n",
    "        elif arr[mid] > x:\n",
    "            return binarySearch(arr, l, mid-1, x)\n",
    "  \n",
    "        else:\n",
    "            return binarySearch(arr, mid + 1, r, x)\n",
    "  \n",
    "    else:\n",
    "        return -1\n",
    "    \n",
    "    \n",
    "    \n",
    "arr = [ 2, 3, 4, 10, 40 ]\n",
    "x = 10\n",
    "  \n",
    "\n",
    "result = binarySearch(arr, 0, len(arr)-1, x)\n",
    "  \n",
    "if result != -1:\n",
    "    print (\"Element is present at index % d\" % result)\n",
    "else:\n",
    "    print (\"Element is not present in array\")"
   ]
  },
  {
   "cell_type": "markdown",
   "id": "3085bc3a",
   "metadata": {},
   "source": [
    "### Implement a dictionary sort using bubble sort"
   ]
  },
  {
   "cell_type": "code",
   "execution_count": 7,
   "id": "75f93997",
   "metadata": {},
   "outputs": [
    {
     "name": "stdout",
     "output_type": "stream",
     "text": [
      "Sorted dictionary:\n",
      "[1, 4, 2, 8, 12]\n"
     ]
    }
   ],
   "source": [
    "def bubble_sort(d):\n",
    "    for i in range(1,len(d)):\n",
    "        for j in range(len(d)-i):\n",
    "            if d[j] > d[j+1]:\n",
    "                d[j],d[j+1] = d[j+1],d[j]\n",
    "        return d\n",
    "    \n",
    "dic  = {'a':1,'b':12,'c':4,'d':2,'e':8}\n",
    "k = list(dic.values())\n",
    "\n",
    "print('Sorted dictionary:')\n",
    "print(bubble_sort(k))"
   ]
  },
  {
   "cell_type": "markdown",
   "id": "56553a10",
   "metadata": {},
   "source": [
    "### Sort an array of numbers using insertion sort"
   ]
  },
  {
   "cell_type": "code",
   "execution_count": 3,
   "id": "20ea1782",
   "metadata": {},
   "outputs": [
    {
     "name": "stdout",
     "output_type": "stream",
     "text": [
      "Sorted Array in Ascending Order:\n",
      "[1, 3, 4, 5, 9]\n"
     ]
    }
   ],
   "source": [
    "def insertionSort(array):\n",
    "    for step in range(1, len(array)):\n",
    "        key = array[step]\n",
    "        j = step - 1\n",
    "        \n",
    "        \n",
    "        while j >= 0 and key < array[j]:\n",
    "            array[j + 1] = array[j]\n",
    "            j = j - 1\n",
    "        \n",
    "        array[j + 1] = key\n",
    "\n",
    "\n",
    "data = [9, 5, 1, 4, 3]\n",
    "insertionSort(data)\n",
    "print('Sorted Array in Ascending Order:')\n",
    "print(data)"
   ]
  },
  {
   "cell_type": "markdown",
   "id": "65d75c53",
   "metadata": {},
   "source": [
    "### Sort an array of numbers using selection sort"
   ]
  },
  {
   "cell_type": "code",
   "execution_count": 6,
   "id": "23793267",
   "metadata": {},
   "outputs": [
    {
     "name": "stdout",
     "output_type": "stream",
     "text": [
      "Sorted array\n",
      "[11, 12, 22, 25, 64]\n"
     ]
    }
   ],
   "source": [
    "A = [64, 25, 12, 22, 11]\n",
    " \n",
    "\n",
    "for i in range(len(A)):\n",
    "    min_idx = i\n",
    "    for j in range(i+1, len(A)):\n",
    "        if A[min_idx] > A[j]:\n",
    "            min_idx = j\n",
    "             \n",
    "                \n",
    "    A[i], A[min_idx] = A[min_idx], A[i]\n",
    "\n",
    "    \n",
    "print (\"Sorted array\")\n",
    "print(A)"
   ]
  }
 ],
 "metadata": {
  "kernelspec": {
   "display_name": "Python 3",
   "language": "python",
   "name": "python3"
  },
  "language_info": {
   "codemirror_mode": {
    "name": "ipython",
    "version": 3
   },
   "file_extension": ".py",
   "mimetype": "text/x-python",
   "name": "python",
   "nbconvert_exporter": "python",
   "pygments_lexer": "ipython3",
   "version": "3.8.8"
  }
 },
 "nbformat": 4,
 "nbformat_minor": 5
}
